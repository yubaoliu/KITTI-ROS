{
 "cells": [
  {
   "cell_type": "markdown",
   "metadata": {
    "colab_type": "text",
    "id": "69vDVzEkHj42"
   },
   "source": [
    "# Kitti数据集的使用方法\n",
    "\n",
    "参考\n",
    "https://www.youtube.com/playlist?list=PLDV2CyUo4q-L4YlXUWDytZPz9a8cAWXST\n",
    "\n",
    "\n",
    "https://github.com/kwea123/ROS_notes"
   ]
  },
  {
   "cell_type": "markdown",
   "metadata": {
    "colab_type": "text",
    "id": "2NLajoFEeLbf"
   },
   "source": [
    "\n",
    "#下載kitti tracking資料並且讀取\n",
    "\n",
    "资料信息\n",
    "https://github.com/pratikac/kitti/blob/master/readme.tracking.txt\n",
    "\n",
    "视频\n",
    "https://www.youtube.com/watch?v=phyonnkuGbs&list=PLDV2CyUo4q-L4YlXUWDytZPz9a8cAWXST&index=7"
   ]
  },
  {
   "cell_type": "code",
   "execution_count": 2,
   "metadata": {
    "colab": {
     "base_uri": "https://localhost:8080/",
     "height": 224
    },
    "colab_type": "code",
    "executionInfo": {
     "elapsed": 1033,
     "status": "ok",
     "timestamp": 1593852017514,
     "user": {
      "displayName": "张海斌",
      "photoUrl": "https://lh3.googleusercontent.com/a-/AOh14GgBJTEg8NC2eSnxeP_TUG9-o0KFDfC8mPzCk4vbqA=s64",
      "userId": "06489696548372598417"
     },
     "user_tz": -540
    },
    "id": "uaJPDPvodRnw",
    "outputId": "f603cf4b-2124-4fd6-a07f-c9a3d1d9f166"
   },
   "outputs": [
    {
     "data": {
      "text/html": [
       "<div>\n",
       "<style scoped>\n",
       "    .dataframe tbody tr th:only-of-type {\n",
       "        vertical-align: middle;\n",
       "    }\n",
       "\n",
       "    .dataframe tbody tr th {\n",
       "        vertical-align: top;\n",
       "    }\n",
       "\n",
       "    .dataframe thead th {\n",
       "        text-align: right;\n",
       "    }\n",
       "</style>\n",
       "<table border=\"1\" class=\"dataframe\">\n",
       "  <thead>\n",
       "    <tr style=\"text-align: right;\">\n",
       "      <th></th>\n",
       "      <th>frame</th>\n",
       "      <th>track_id</th>\n",
       "      <th>type</th>\n",
       "      <th>truncated</th>\n",
       "      <th>occluded</th>\n",
       "      <th>alpha</th>\n",
       "      <th>bbox_left</th>\n",
       "      <th>bbox_top</th>\n",
       "      <th>bbox_right</th>\n",
       "      <th>bbox_bottom</th>\n",
       "      <th>height</th>\n",
       "      <th>width</th>\n",
       "      <th>length</th>\n",
       "      <th>pos_x</th>\n",
       "      <th>pos_y</th>\n",
       "      <th>pos_z</th>\n",
       "      <th>rot_y</th>\n",
       "    </tr>\n",
       "  </thead>\n",
       "  <tbody>\n",
       "    <tr>\n",
       "      <th>2</th>\n",
       "      <td>0</td>\n",
       "      <td>0</td>\n",
       "      <td>Car</td>\n",
       "      <td>0</td>\n",
       "      <td>0</td>\n",
       "      <td>-1.793451</td>\n",
       "      <td>296.744956</td>\n",
       "      <td>161.752147</td>\n",
       "      <td>455.226042</td>\n",
       "      <td>292.372804</td>\n",
       "      <td>2.000000</td>\n",
       "      <td>1.823255</td>\n",
       "      <td>4.433886</td>\n",
       "      <td>-4.552284</td>\n",
       "      <td>1.858523</td>\n",
       "      <td>13.410495</td>\n",
       "      <td>-2.115488</td>\n",
       "    </tr>\n",
       "    <tr>\n",
       "      <th>3</th>\n",
       "      <td>0</td>\n",
       "      <td>1</td>\n",
       "      <td>Cyclist</td>\n",
       "      <td>0</td>\n",
       "      <td>0</td>\n",
       "      <td>-1.936993</td>\n",
       "      <td>737.619499</td>\n",
       "      <td>161.531951</td>\n",
       "      <td>931.112229</td>\n",
       "      <td>374.000000</td>\n",
       "      <td>1.739063</td>\n",
       "      <td>0.824591</td>\n",
       "      <td>1.785241</td>\n",
       "      <td>1.640400</td>\n",
       "      <td>1.675660</td>\n",
       "      <td>5.776261</td>\n",
       "      <td>-1.675458</td>\n",
       "    </tr>\n",
       "    <tr>\n",
       "      <th>4</th>\n",
       "      <td>0</td>\n",
       "      <td>2</td>\n",
       "      <td>Pedestrian</td>\n",
       "      <td>0</td>\n",
       "      <td>0</td>\n",
       "      <td>-2.523309</td>\n",
       "      <td>1106.137292</td>\n",
       "      <td>166.576807</td>\n",
       "      <td>1204.470628</td>\n",
       "      <td>323.876144</td>\n",
       "      <td>1.714062</td>\n",
       "      <td>0.767881</td>\n",
       "      <td>0.972283</td>\n",
       "      <td>6.301919</td>\n",
       "      <td>1.652419</td>\n",
       "      <td>8.455685</td>\n",
       "      <td>-1.900245</td>\n",
       "    </tr>\n",
       "    <tr>\n",
       "      <th>7</th>\n",
       "      <td>1</td>\n",
       "      <td>0</td>\n",
       "      <td>Car</td>\n",
       "      <td>0</td>\n",
       "      <td>0</td>\n",
       "      <td>-1.796862</td>\n",
       "      <td>294.898777</td>\n",
       "      <td>156.024256</td>\n",
       "      <td>452.199718</td>\n",
       "      <td>284.621269</td>\n",
       "      <td>2.000000</td>\n",
       "      <td>1.823255</td>\n",
       "      <td>4.433886</td>\n",
       "      <td>-4.650955</td>\n",
       "      <td>1.766774</td>\n",
       "      <td>13.581085</td>\n",
       "      <td>-2.121565</td>\n",
       "    </tr>\n",
       "    <tr>\n",
       "      <th>8</th>\n",
       "      <td>1</td>\n",
       "      <td>1</td>\n",
       "      <td>Cyclist</td>\n",
       "      <td>0</td>\n",
       "      <td>0</td>\n",
       "      <td>-1.935205</td>\n",
       "      <td>745.017137</td>\n",
       "      <td>156.393157</td>\n",
       "      <td>938.839722</td>\n",
       "      <td>374.000000</td>\n",
       "      <td>1.739063</td>\n",
       "      <td>0.824591</td>\n",
       "      <td>1.785241</td>\n",
       "      <td>1.700640</td>\n",
       "      <td>1.640419</td>\n",
       "      <td>5.778596</td>\n",
       "      <td>-1.664456</td>\n",
       "    </tr>\n",
       "  </tbody>\n",
       "</table>\n",
       "</div>"
      ],
      "text/plain": [
       "   frame  track_id        type  truncated  occluded     alpha    bbox_left  \\\n",
       "2      0         0         Car          0         0 -1.793451   296.744956   \n",
       "3      0         1     Cyclist          0         0 -1.936993   737.619499   \n",
       "4      0         2  Pedestrian          0         0 -2.523309  1106.137292   \n",
       "7      1         0         Car          0         0 -1.796862   294.898777   \n",
       "8      1         1     Cyclist          0         0 -1.935205   745.017137   \n",
       "\n",
       "     bbox_top   bbox_right  bbox_bottom    height     width    length  \\\n",
       "2  161.752147   455.226042   292.372804  2.000000  1.823255  4.433886   \n",
       "3  161.531951   931.112229   374.000000  1.739063  0.824591  1.785241   \n",
       "4  166.576807  1204.470628   323.876144  1.714062  0.767881  0.972283   \n",
       "7  156.024256   452.199718   284.621269  2.000000  1.823255  4.433886   \n",
       "8  156.393157   938.839722   374.000000  1.739063  0.824591  1.785241   \n",
       "\n",
       "      pos_x     pos_y      pos_z     rot_y  \n",
       "2 -4.552284  1.858523  13.410495 -2.115488  \n",
       "3  1.640400  1.675660   5.776261 -1.675458  \n",
       "4  6.301919  1.652419   8.455685 -1.900245  \n",
       "7 -4.650955  1.766774  13.581085 -2.121565  \n",
       "8  1.700640  1.640419   5.778596 -1.664456  "
      ]
     },
     "execution_count": 2,
     "metadata": {},
     "output_type": "execute_result"
    }
   ],
   "source": [
    "import numpy as np\n",
    "import pandas as pd\n",
    "\n",
    "TRACKING_COLUMN_NAMES = ['frame', 'track_id', 'type', 'truncated', 'occluded', 'alpha', 'bbox_left', 'bbox_top',\n",
    "                         'bbox_right', 'bbox_bottom', 'height', 'width', 'length', 'pos_x', 'pos_y', 'pos_z', 'rot_y']\n",
    "\n",
    "def read_tracking(path):\n",
    "    df = pd.read_csv(path, header=None, sep=' ')\n",
    "    df.columns = TRACKING_COLUMN_NAMES\n",
    "    #print(df.head())\n",
    "\n",
    "    df = df[df['track_id']>=0] # remove DontCare objects\n",
    "    df.loc[df.type.isin(['Bus', 'Truck', 'Van', 'Tram']), 'type'] = 'Car' # Set all vehicle type to Car\n",
    "    df = df[df.type.isin(['Car', 'Pedestrian', 'Cyclist'])]\n",
    "    return df\n",
    "\n",
    "df = read_tracking(\"data/0000.txt\")\n",
    "read_tracking(\"data/0000.txt\").head()\n",
    "# bbox = np.array(df.loc[:, ['bbox_left',\t'bbox_top',\t'bbox_right',\t'bbox_bottom']])\n",
    "# print(bbox)\n"
   ]
  },
  {
   "cell_type": "code",
   "execution_count": 5,
   "metadata": {},
   "outputs": [
    {
     "data": {
      "text/plain": [
       "bbox_left      296.745\n",
       "bbox_top       161.752\n",
       "bbox_right     455.226\n",
       "bbox_bottom    292.373\n",
       "Name: 2, dtype: object"
      ]
     },
     "execution_count": 5,
     "metadata": {},
     "output_type": "execute_result"
    }
   ],
   "source": [
    "# Get bounding box\n",
    "df.loc[2, ['bbox_left', 'bbox_top', 'bbox_right', 'bbox_bottom']]"
   ]
  },
  {
   "cell_type": "code",
   "execution_count": 11,
   "metadata": {},
   "outputs": [
    {
     "data": {
      "text/plain": [
       "array([[ 296.744956,  161.752147,  455.226042,  292.372804],\n",
       "       [ 737.619499,  161.531951,  931.112229,  374.      ],\n",
       "       [1106.137292,  166.576807, 1204.470628,  323.876144]])"
      ]
     },
     "execution_count": 11,
     "metadata": {},
     "output_type": "execute_result"
    }
   ],
   "source": [
    "np.array(df[df.frame==0][['bbox_left', 'bbox_top', 'bbox_right', 'bbox_bottom']])"
   ]
  },
  {
   "cell_type": "code",
   "execution_count": null,
   "metadata": {
    "colab": {
     "base_uri": "https://localhost:8080/",
     "height": 207
    },
    "colab_type": "code",
    "executionInfo": {
     "elapsed": 3998,
     "status": "ok",
     "timestamp": 1593852020491,
     "user": {
      "displayName": "张海斌",
      "photoUrl": "https://lh3.googleusercontent.com/a-/AOh14GgBJTEg8NC2eSnxeP_TUG9-o0KFDfC8mPzCk4vbqA=s64",
      "userId": "06489696548372598417"
     },
     "user_tz": -540
    },
    "id": "ypJTpF9HeYVa",
    "outputId": "bccc5de0-b775-476c-b2e6-91f76b4f5a54"
   },
   "outputs": [],
   "source": [
    "import cv2\n",
    "#from google.colab.patches import cv2_imshow\n",
    "\n",
    "COLOR_DICT = {'Car':(255,255,0), 'Cyclist':(255,0,255), 'Pedestrian':(255,55,25)}\n",
    "\n",
    "frame = 0\n",
    "image = cv2.imread(\"data/%010d.png\"%frame)\n",
    "boxes = np.array(df[df.frame==0][['bbox_left','bbox_top','bbox_right','bbox_bottom']])\n",
    "types = np.array(df[df.frame==0]['type'])\n",
    "\n",
    "for typ, box in zip(types,boxes):\n",
    "  top_left = int(box[0]),int(box[1])\n",
    "  bottom_right = int(box[2]),int(box[3])\n",
    "  cv2.rectangle(image, top_left, bottom_right,COLOR_DICT[typ],2)\n",
    "#cv2_imshow(image)\n",
    "cv2.imshow(\"image\", image)\n",
    "cv2.waitKey(0)\n",
    "cv2.destroyAllWindows()"
   ]
  },
  {
   "cell_type": "markdown",
   "metadata": {
    "colab_type": "text",
    "id": "KYJ9bHPjskS7"
   },
   "source": [
    "# lidar检测框\n",
    "\n",
    "![](https://navoshta.com/images/posts/kitti-lidar/pcl_data.gif)\n",
    "\n",
    "文章\n",
    "https://navoshta.com/kitti-lidar/\n",
    "\n",
    "代码\n",
    "https://github.com/navoshta/KITTI-Dataset/blob/master/kitti-dataset.ipynb"
   ]
  },
  {
   "cell_type": "code",
   "execution_count": 12,
   "metadata": {
    "colab": {
     "base_uri": "https://localhost:8080/",
     "height": 327
    },
    "colab_type": "code",
    "executionInfo": {
     "elapsed": 4953,
     "status": "ok",
     "timestamp": 1593852021456,
     "user": {
      "displayName": "张海斌",
      "photoUrl": "https://lh3.googleusercontent.com/a-/AOh14GgBJTEg8NC2eSnxeP_TUG9-o0KFDfC8mPzCk4vbqA=s64",
      "userId": "06489696548372598417"
     },
     "user_tz": -540
    },
    "id": "9KfgBrF2sjvN",
    "outputId": "9dfe68e2-f2ad-4167-8502-76bda90418b9"
   },
   "outputs": [
    {
     "ename": "NameError",
     "evalue": "name 'frame' is not defined",
     "output_type": "error",
     "traceback": [
      "\u001b[0;31m---------------------------------------------\u001b[0m",
      "\u001b[0;31mNameError\u001b[0m   Traceback (most recent call last)",
      "\u001b[0;32m<ipython-input-12-54c183dcc15b>\u001b[0m in \u001b[0;36m<module>\u001b[0;34m\u001b[0m\n\u001b[1;32m     34\u001b[0m \u001b[0;34m\u001b[0m\u001b[0m\n\u001b[1;32m     35\u001b[0m \u001b[0;34m\u001b[0m\u001b[0m\n\u001b[0;32m---> 36\u001b[0;31m \u001b[0mpoints\u001b[0m \u001b[0;34m=\u001b[0m \u001b[0mnp\u001b[0m\u001b[0;34m.\u001b[0m\u001b[0mfromfile\u001b[0m\u001b[0;34m(\u001b[0m\u001b[0;34m'%010d.bin'\u001b[0m\u001b[0;34m%\u001b[0m\u001b[0mframe\u001b[0m\u001b[0;34m,\u001b[0m\u001b[0mdtype\u001b[0m\u001b[0;34m=\u001b[0m\u001b[0mnp\u001b[0m\u001b[0;34m.\u001b[0m\u001b[0mfloat32\u001b[0m\u001b[0;34m)\u001b[0m\u001b[0;34m.\u001b[0m\u001b[0mreshape\u001b[0m\u001b[0;34m(\u001b[0m\u001b[0;34m-\u001b[0m\u001b[0;36m1\u001b[0m\u001b[0;34m,\u001b[0m\u001b[0;36m4\u001b[0m\u001b[0;34m)\u001b[0m\u001b[0;34m\u001b[0m\u001b[0m\n\u001b[0m\u001b[1;32m     37\u001b[0m \u001b[0mfig\u001b[0m \u001b[0;34m=\u001b[0m \u001b[0mplt\u001b[0m\u001b[0;34m.\u001b[0m\u001b[0mfigure\u001b[0m\u001b[0;34m(\u001b[0m\u001b[0mfigsize\u001b[0m\u001b[0;34m=\u001b[0m\u001b[0;34m(\u001b[0m\u001b[0;36m20\u001b[0m\u001b[0;34m,\u001b[0m\u001b[0;36m10\u001b[0m\u001b[0;34m)\u001b[0m\u001b[0;34m)\u001b[0m\u001b[0;34m\u001b[0m\u001b[0m\n\u001b[1;32m     38\u001b[0m \u001b[0max\u001b[0m \u001b[0;34m=\u001b[0m \u001b[0mfig\u001b[0m\u001b[0;34m.\u001b[0m\u001b[0madd_subplot\u001b[0m\u001b[0;34m(\u001b[0m\u001b[0;36m111\u001b[0m\u001b[0;34m,\u001b[0m \u001b[0mprojection\u001b[0m\u001b[0;34m=\u001b[0m\u001b[0;34m'3d'\u001b[0m\u001b[0;34m)\u001b[0m\u001b[0;34m\u001b[0m\u001b[0m\n",
      "\u001b[0;31mNameError\u001b[0m: name 'frame' is not defined"
     ]
    }
   ],
   "source": [
    "\n",
    "import matplotlib.pyplot as plt\n",
    "from mpl_toolkits.mplot3d import Axes3D\n",
    "\n",
    "def draw_point_cloud(ax, points, axes=[0, 1, 2], point_size = 0.1, xlim3d=None, ylim3d=None, zlim3d=None):\n",
    "    \"\"\"\n",
    "    Convenient method for drawing various point cloud projections as a part of frame statistics.\n",
    "    \"\"\"\n",
    "    axes_limits = [\n",
    "                   [-20,80],\n",
    "                   [-20,20],\n",
    "                   [-3,3]\n",
    "    ]\n",
    "    axes_str = ['X','Y','Z']\n",
    "    ax.grid = False\n",
    "\n",
    "    ax.scatter(*np.transpose(points[:, axes]), s=point_size, c=points[:, 3], cmap='gray')\n",
    "    ax.set_xlabel('{} axis'.format(axes_str[axes[0]]))\n",
    "    ax.set_ylabel('{} axis'.format(axes_str[axes[1]]))\n",
    "    if len(axes) > 2:\n",
    "        ax.set_xlim3d(*axes_limits[axes[0]])\n",
    "        ax.set_ylim3d(*axes_limits[axes[1]])\n",
    "        ax.set_zlim3d(*axes_limits[axes[2]])\n",
    "        ax.set_zlabel('{} axis'.format(axes_str[axes[2]]))\n",
    "    else:\n",
    "        ax.set_xlim(*axes_limits[axes[0]])\n",
    "        ax.set_ylim(*axes_limits[axes[1]])\n",
    "    # User specified limits\n",
    "    if xlim3d!=None:\n",
    "        ax.set_xlim3d(xlim3d)\n",
    "    if ylim3d!=None:\n",
    "        ax.set_ylim3d(ylim3d)\n",
    "    if zlim3d!=None:\n",
    "        ax.set_zlim3d(zlim3d)\n",
    "\n",
    "\n",
    "points = np.fromfile('%010d.bin'%frame,dtype=np.float32).reshape(-1,4)\n",
    "fig = plt.figure(figsize=(20,10))\n",
    "ax = fig.add_subplot(111, projection='3d')\n",
    "ax.view_init(40,100)\n",
    "draw_point_cloud(ax, points[::2]) #每2个点画一个"
   ]
  },
  {
   "cell_type": "code",
   "execution_count": null,
   "metadata": {
    "colab": {
     "base_uri": "https://localhost:8080/",
     "height": 333
    },
    "colab_type": "code",
    "executionInfo": {
     "elapsed": 5738,
     "status": "ok",
     "timestamp": 1593852022252,
     "user": {
      "displayName": "张海斌",
      "photoUrl": "https://lh3.googleusercontent.com/a-/AOh14GgBJTEg8NC2eSnxeP_TUG9-o0KFDfC8mPzCk4vbqA=s64",
      "userId": "06489696548372598417"
     },
     "user_tz": -540
    },
    "id": "WHSu0U0ix1oY",
    "outputId": "35ff0d5a-3dbf-469d-eaa2-e8b4a68b8152"
   },
   "outputs": [],
   "source": [
    "fig, ax = plt.subplots(figsize=(20,10))\n",
    "draw_point_cloud(ax, points[::2], axes=[0,1]) #鸟瞰"
   ]
  },
  {
   "cell_type": "markdown",
   "metadata": {
    "colab_type": "text",
    "id": "jGghVgfvyVvv"
   },
   "source": [
    "## 3d框\n",
    "同样利用tracking文件，可以提取3d框信息。\n",
    "\n",
    "The reference point for the 3D bounding box for each object is centered on the\n",
    "bottom face of the box. \n",
    "\n",
    "The corners of bounding box are computed as follows with\n",
    "respect to the reference point and in the object coordinate system:\n",
    "\n",
    "```\n",
    "x_corners = [l/2, l/2, -l/2, -l/2,  l/2,  l/2, -l/2, -l/2]^T\n",
    "y_corners = [0,   0,    0,    0,   -h,   -h,   -h,   -h  ]^T\n",
    "z_corners = [w/2, -w/2, -w/2, w/2, w/2, -w/2, -w/2, w/2  ]^T\n",
    "```\n",
    "with l=length, h=height, and w=width.\n",
    "\n",
    "讲解：https://www.youtube.com/watch?v=H8HGSIi77H0&list=PLDV2CyUo4q-L4YlXUWDytZPz9a8cAWXST&index=12\n"
   ]
  },
  {
   "cell_type": "code",
   "execution_count": null,
   "metadata": {
    "colab": {
     "base_uri": "https://localhost:8080/",
     "height": 327
    },
    "colab_type": "code",
    "executionInfo": {
     "elapsed": 6724,
     "status": "ok",
     "timestamp": 1593852023249,
     "user": {
      "displayName": "张海斌",
      "photoUrl": "https://lh3.googleusercontent.com/a-/AOh14GgBJTEg8NC2eSnxeP_TUG9-o0KFDfC8mPzCk4vbqA=s64",
      "userId": "06489696548372598417"
     },
     "user_tz": -540
    },
    "id": "-f_ZoEUjyCJw",
    "outputId": "49b91a20-7214-4401-d334-a7bb5e566578"
   },
   "outputs": [],
   "source": [
    "def compute_3d_box_cam2(h, w, l, x, y, z, yaw):\n",
    "    \"\"\"\n",
    "    Return : 3xn in cam2 coordinate\n",
    "    \"\"\"\n",
    "    R = np.array([[np.cos(yaw), 0, np.sin(yaw)], [0, 1, 0], [-np.sin(yaw), 0, np.cos(yaw)]])\n",
    "    x_corners = [l/2,l/2,-l/2,-l/2,l/2,l/2,-l/2,-l/2]\n",
    "    y_corners = [0,0,0,0,-h,-h,-h,-h]\n",
    "    z_corners = [w/2,-w/2,-w/2,w/2,w/2,-w/2,-w/2,w/2]\n",
    "    corners_3d_cam2 = np.dot(R, np.vstack([x_corners,y_corners,z_corners]))\n",
    "    corners_3d_cam2[0,:] += x\n",
    "    corners_3d_cam2[1,:] += y\n",
    "    corners_3d_cam2[2,:] += z\n",
    "    return corners_3d_cam2\n",
    "\n",
    "def draw_box(pyplot_axis, vertices, axes=[0, 1, 2], color='black'):\n",
    "    \"\"\"\n",
    "    Draws a bounding 3D box in a pyplot axis.\n",
    "    \n",
    "    Parameters\n",
    "    ----------\n",
    "    pyplot_axis : Pyplot axis to draw in.\n",
    "    vertices    : Array 8 box vertices containing x, y, z coordinates.\n",
    "    axes        : Axes to use. Defaults to `[0, 1, 2]`, e.g. x, y and z axes.\n",
    "    color       : Drawing color. Defaults to `black`.\n",
    "    \"\"\"\n",
    "    vertices = vertices[axes, :]\n",
    "    connections = [\n",
    "        [0, 1], [1, 2], [2, 3], [3, 0],  # Lower plane parallel to Z=0 plane\n",
    "        [4, 5], [5, 6], [6, 7], [7, 4],  # Upper plane parallel to Z=0 plane\n",
    "        [0, 4], [1, 5], [2, 6], [3, 7]  # Connections between upper and lower planes\n",
    "    ]\n",
    "    for connection in connections:\n",
    "        pyplot_axis.plot(*vertices[:, connection], c=color, lw=0.5)\n",
    "\n",
    "# 照相机坐标系\n",
    "cornel_3d_cam2 = compute_3d_box_cam2(*df.loc[2,['height','width','length',\t'pos_x','pos_y','pos_z','rot_y']])\n",
    "fig = plt.figure(figsize=(20,10))\n",
    "ax = fig.add_subplot(111, projection='3d')\n",
    "ax.view_init(40,150)\n",
    "draw_box(ax, (cornel_3d_cam2)) #每2个点画一个"
   ]
  },
  {
   "cell_type": "markdown",
   "metadata": {
    "colab_type": "text",
    "id": "np1m7ua_1QWG"
   },
   "source": [
    "## 坐标系转换\n",
    "\n",
    "3d偵測框的數學推導，並在照相機座標系裡將其畫出\n",
    "另外介紹了calibration(校正)，使的各個座標系之間的點可以自由的進行轉換。我們於是可以把照相機座標系中的3d偵測框投影至velodyne座標系中，並與點雲同時畫出來\n",
    "\n",
    "\n",
    "代码\n",
    "https://github.com/charlesq34/frustum-pointnets/blob/master/kitti/kitti_util.py"
   ]
  },
  {
   "cell_type": "code",
   "execution_count": null,
   "metadata": {
    "colab": {
     "base_uri": "https://localhost:8080/",
     "height": 429
    },
    "colab_type": "code",
    "executionInfo": {
     "elapsed": 6715,
     "status": "ok",
     "timestamp": 1593852023251,
     "user": {
      "displayName": "张海斌",
      "photoUrl": "https://lh3.googleusercontent.com/a-/AOh14GgBJTEg8NC2eSnxeP_TUG9-o0KFDfC8mPzCk4vbqA=s64",
      "userId": "06489696548372598417"
     },
     "user_tz": -540
    },
    "id": "T73Sh5It1TvB",
    "outputId": "93fbe11a-8e21-4c22-9e9d-eea2a57e0ab8"
   },
   "outputs": [],
   "source": [
    "from  kitti_utils  import *\n",
    "\n",
    "#读取kitti标定文件\n",
    "calib = Calibration('utils',from_video=True)\n",
    "# 从2号相机投影到激光传感器坐标系\n",
    "cornel_3d_velo = calib.project_rect_to_velo(cornel_3d_cam2.T).T\n",
    "print(cornel_3d_velo)\n",
    "# 画出在激光坐标系下的方框\n",
    "fig = plt.figure(figsize=(20,10))\n",
    "ax = fig.add_subplot(111, projection='3d')\n",
    "ax.view_init(40,150)\n",
    "draw_box(ax, (cornel_3d_velo)) #每2个点画一个"
   ]
  },
  {
   "cell_type": "markdown",
   "metadata": {
    "colab_type": "text",
    "id": "HFzLG6JTYxaz"
   },
   "source": [
    "## 最终结果"
   ]
  },
  {
   "cell_type": "code",
   "execution_count": null,
   "metadata": {
    "colab": {
     "base_uri": "https://localhost:8080/",
     "height": 327
    },
    "colab_type": "code",
    "executionInfo": {
     "elapsed": 8350,
     "status": "ok",
     "timestamp": 1593852024897,
     "user": {
      "displayName": "张海斌",
      "photoUrl": "https://lh3.googleusercontent.com/a-/AOh14GgBJTEg8NC2eSnxeP_TUG9-o0KFDfC8mPzCk4vbqA=s64",
      "userId": "06489696548372598417"
     },
     "user_tz": -540
    },
    "id": "NPmN4Y2gXmI0",
    "outputId": "f0b17c71-662a-42af-d51d-49ba9f4c623d"
   },
   "outputs": [],
   "source": [
    "fig = plt.figure(figsize=(20,10))\n",
    "ax = fig.add_subplot(111, projection='3d')\n",
    "ax.view_init(40,150)\n",
    "draw_point_cloud(ax, points[::2]) #每2个点画一个\n",
    "draw_box(ax, (cornel_3d_velo)) #每2个点画一个"
   ]
  },
  {
   "cell_type": "code",
   "execution_count": null,
   "metadata": {
    "colab": {
     "base_uri": "https://localhost:8080/",
     "height": 333
    },
    "colab_type": "code",
    "executionInfo": {
     "elapsed": 10107,
     "status": "ok",
     "timestamp": 1593852026666,
     "user": {
      "displayName": "张海斌",
      "photoUrl": "https://lh3.googleusercontent.com/a-/AOh14GgBJTEg8NC2eSnxeP_TUG9-o0KFDfC8mPzCk4vbqA=s64",
      "userId": "06489696548372598417"
     },
     "user_tz": -540
    },
    "id": "VVwylZrxX9hS",
    "outputId": "128965b4-96c5-4db9-8a1c-59440d3f2749"
   },
   "outputs": [],
   "source": [
    "fig, ax = plt.subplots(figsize=(20,10))\n",
    "draw_point_cloud(ax, points[::2], axes=[0,1]) #鸟瞰\n",
    "draw_box(ax, (cornel_3d_velo), axes=[0,1], color='r') #每2个点画一个"
   ]
  },
  {
   "cell_type": "markdown",
   "metadata": {
    "colab_type": "text",
    "id": "q3vGpSwL8Wnr"
   },
   "source": [
    "# 读取IMU GPS信息\n",
    "\n",
    "oxts文件夹中,数据格式[参考如下](https://github.com/pratikac/kitti/blob/master/readme.raw.txt).\n",
    "\n",
    "利用IMU/GPS資料計算移動距離以及旋轉角度\n",
    "\n",
    "- 利用yaw得到旋转角度\n",
    "\n",
    "- 移動距離有兩種算法\n",
    "1.利用GPS計算大圓距離\n",
    "https://zh.wikipedia.org/wiki/%E5%A4%A7%E5%9C%86%E8%B7%9D%E7%A6%BB\n",
    "\n",
    "2.利用IMU提供的速度乘上經過的時間\n",
    "\n",
    "在短時間內的話，以IMU資料計算出的結果會具有更高的精確性及平滑性。"
   ]
  },
  {
   "cell_type": "code",
   "execution_count": null,
   "metadata": {
    "colab": {
     "base_uri": "https://localhost:8080/",
     "height": 100
    },
    "colab_type": "code",
    "executionInfo": {
     "elapsed": 606,
     "status": "ok",
     "timestamp": 1593852326427,
     "user": {
      "displayName": "张海斌",
      "photoUrl": "https://lh3.googleusercontent.com/a-/AOh14GgBJTEg8NC2eSnxeP_TUG9-o0KFDfC8mPzCk4vbqA=s64",
      "userId": "06489696548372598417"
     },
     "user_tz": -540
    },
    "id": "oruPHXIC8bmZ",
    "outputId": "d68d2ab7-b78d-4b40-9ad9-11f81d5d4aea"
   },
   "outputs": [],
   "source": [
    "def read_imu(path):\n",
    "  IMU_COLUMN_NAMES = ['lat', 'lon', 'alt', 'roll', 'pitch', 'yaw', 'vn', 've', 'vf', 'vl', 'vu', 'ax', 'ay', 'az', 'af',\n",
    "                      'al', 'au', 'wx', 'wy', 'wz', 'wf', 'wl', 'wu', 'posacc', 'velacc', 'navstat', 'numsats', 'posmode',\n",
    "                      'velmode', 'orimode']\n",
    "\n",
    "  df = pd.read_csv(path, header=None, sep=' ')\n",
    "  df.columns = IMU_COLUMN_NAMES\n",
    "  return df\n",
    "read_imu('/content/0000000000.txt')\n"
   ]
  },
  {
   "cell_type": "code",
   "execution_count": null,
   "metadata": {
    "colab": {
     "base_uri": "https://localhost:8080/",
     "height": 265
    },
    "colab_type": "code",
    "executionInfo": {
     "elapsed": 1848,
     "status": "ok",
     "timestamp": 1593853915789,
     "user": {
      "displayName": "张海斌",
      "photoUrl": "https://lh3.googleusercontent.com/a-/AOh14GgBJTEg8NC2eSnxeP_TUG9-o0KFDfC8mPzCk4vbqA=s64",
      "userId": "06489696548372598417"
     },
     "user_tz": -540
    },
    "id": "SooQgFdy9XGX",
    "outputId": "01ce2561-5b08-4d40-a45e-39f7e1acf904"
   },
   "outputs": [],
   "source": [
    "#利用gps计算两帧距离\n",
    "def compute_great_circle_distance(lat1, lon1, lat2, lon2):\n",
    "    \"\"\"\n",
    "    Compute the great circle distance from two gps data\n",
    "    Input   : latitudes and longitudes in degree\n",
    "    Output  : distance in meter\n",
    "    \"\"\"\n",
    "    delta_sigma = float(np.sin(lat1*np.pi/180)*np.sin(lat2*np.pi/180)+ \\\n",
    "                        np.cos(lat1*np.pi/180)*np.cos(lat2*np.pi/180)*np.cos(lon1*np.pi/180-lon2*np.pi/180))\n",
    "    if np.abs(delta_sigma) > 1:\n",
    "        return 0.0\n",
    "    return 6371000.0 * np.arccos(delta_sigma)\n",
    "\n",
    "# 计算所有\n",
    "def compute_every_two_frame_distance():\n",
    "  prev_imu_data = None\n",
    "  gps_distances = []\n",
    "  imu_distances = []\n",
    "  for frame in range(130):\n",
    "    imu_data = read_imu('%010d.txt'%frame)\n",
    "\n",
    "    if prev_imu_data is not None:\n",
    "      gps_distances += [compute_great_circle_distance(imu_data.lat, imu_data.lon, prev_imu_data.lat, prev_imu_data.lon)]\n",
    "      imu_distances += [0.1*np.linalg.norm(imu_data[['vf','vl']])] # 0.1s移动距离\n",
    "    prev_imu_data = imu_data\n",
    "  return gps_distances, imu_distances\n",
    "\n",
    "gps_distances,imu_distances = compute_every_two_frame_distance()\n",
    "plt.figure()\n",
    "plt.plot(gps_distances, label='gps')\n",
    "plt.plot(imu_distances, label='imu')\n",
    "plt.legend()\n",
    "plt.show()"
   ]
  },
  {
   "cell_type": "markdown",
   "metadata": {
    "colab_type": "text",
    "id": "l9o4e-ZNHUGH"
   },
   "source": [
    "## 计算移动轨迹\n",
    "\n",
    "https://www.youtube.com/watch?v=TEO3dFeIO-8&list=PLDV2CyUo4q-L4YlXUWDytZPz9a8cAWXST&index=16"
   ]
  },
  {
   "cell_type": "code",
   "execution_count": null,
   "metadata": {
    "colab": {
     "base_uri": "https://localhost:8080/",
     "height": 282
    },
    "colab_type": "code",
    "executionInfo": {
     "elapsed": 1589,
     "status": "ok",
     "timestamp": 1593855379392,
     "user": {
      "displayName": "张海斌",
      "photoUrl": "https://lh3.googleusercontent.com/a-/AOh14GgBJTEg8NC2eSnxeP_TUG9-o0KFDfC8mPzCk4vbqA=s64",
      "userId": "06489696548372598417"
     },
     "user_tz": -540
    },
    "id": "9PPh4g8HETwB",
    "outputId": "c25bd90b-0c7a-4ae2-c229-5b8f1aa1185b"
   },
   "outputs": [],
   "source": [
    "# 畫出自己所有過去的軌跡\n",
    "def compute_locations():\n",
    "  prev_imu_data = None\n",
    "  locations = []\n",
    "  for frame in range(130):\n",
    "    imu_data = read_imu('%010d.txt'%frame)\n",
    "\n",
    "    if prev_imu_data is not None:\n",
    "      displacement = [0.1*np.linalg.norm(imu_data[['vf','vl']])] # 0.1s移动距离\n",
    "      yaw_change = float(imu_data.yaw - prev_imu_data.yaw)\n",
    "      for i in range(len(locations)):\n",
    "        x0, y0 = locations[i]\n",
    "        # 前一帧坐标变换到现在帧坐标\n",
    "        x1 = x0*np.cos(yaw_change) + y0*np.sin(yaw_change) - displacement\n",
    "        y1 = -x0*np.sin(yaw_change) + y0*np.cos(yaw_change)\n",
    "        locations[i] = [x1,y1]\n",
    "\n",
    "    locations += [[0,0]] #相对自己\n",
    "    prev_imu_data = imu_data\n",
    "  return locations\n",
    "\n",
    "locations = compute_locations()\n",
    "plt.figure()\n",
    "plt.plot(np.array(locations)[:,0], np.array(locations)[:,1])"
   ]
  },
  {
   "cell_type": "markdown",
   "metadata": {
    "colab_type": "text",
    "id": "Yz2PzJFV5CH6"
   },
   "source": [
    "# 计算物体间距离"
   ]
  },
  {
   "cell_type": "code",
   "execution_count": null,
   "metadata": {
    "colab": {
     "base_uri": "https://localhost:8080/",
     "height": 282
    },
    "colab_type": "code",
    "executionInfo": {
     "elapsed": 1015,
     "status": "ok",
     "timestamp": 1593935774263,
     "user": {
      "displayName": "张海斌",
      "photoUrl": "https://lh3.googleusercontent.com/a-/AOh14GgBJTEg8NC2eSnxeP_TUG9-o0KFDfC8mPzCk4vbqA=s64",
      "userId": "06489696548372598417"
     },
     "user_tz": -540
    },
    "id": "na-uN9KnJOiC",
    "outputId": "cc2d9b7a-9f34-4c20-c668-824bb33845e1"
   },
   "outputs": [],
   "source": [
    "import matplotlib.pyplot as plt\n",
    "from mpl_toolkits.mplot3d import Axes3D\n",
    "import numpy as np\n",
    "\n",
    "def distance_point_to_segment(P,A,B):\n",
    "  \"\"\"\n",
    "  calculates the min distance of point P to a segment AB.\n",
    "  return min distance and point q\n",
    "  \"\"\"\n",
    "\n",
    "  AP = P-A\n",
    "  BP = P-B\n",
    "  AB = B-A\n",
    "  # 锐角，投影点在线段上\n",
    "  if np.dot(AB,AP)>=0 and np.dot(-AB,BP)>=0:\n",
    "    return np.abs(np.cross(AP,AB))/np.linalg.norm(AB), np.dot(AP,AB)/np.dot(AB,AB)*AB+A\n",
    "  # 否则线段外\n",
    "  d_PA = np.linalg.norm(AP)\n",
    "  d_PB = np.linalg.norm(BP)\n",
    "  if d_PA < d_PB:\n",
    "    return d_PA, A \n",
    "  return d_PB, B\n",
    "\n",
    "P = np.array([5,2],dtype=np.float64) #change Q\n",
    "A = np.array([0,1],dtype=np.float64)\n",
    "B = np.array([2,0],dtype=np.float64)\n",
    "\n",
    "d, Q = distance_point_to_segment(P,A,B)\n",
    "\n",
    "plt.axes().set_aspect('equal','datalim')\n",
    "plt.scatter(P[0],P[1])\n",
    "plt.plot(list(zip(A,B))[0], list(zip(A,B))[1],'r-o')\n",
    "\n",
    "plt.plot(list(zip(P,Q))[0], list(zip(P,Q))[1],'y-')"
   ]
  },
  {
   "cell_type": "code",
   "execution_count": null,
   "metadata": {
    "colab": {
     "base_uri": "https://localhost:8080/",
     "height": 282
    },
    "colab_type": "code",
    "executionInfo": {
     "elapsed": 936,
     "status": "ok",
     "timestamp": 1593936866680,
     "user": {
      "displayName": "张海斌",
      "photoUrl": "https://lh3.googleusercontent.com/a-/AOh14GgBJTEg8NC2eSnxeP_TUG9-o0KFDfC8mPzCk4vbqA=s64",
      "userId": "06489696548372598417"
     },
     "user_tz": -540
    },
    "id": "_ZvP3fM49MRq",
    "outputId": "7093a94b-ed3b-4b21-b5b7-ee1e46dac33e"
   },
   "outputs": [],
   "source": [
    "# 计算两个3d框的最短距离\n",
    "\n",
    "def min_distance_cuboids(cub1,cub2):\n",
    "  \"\"\"\n",
    "  compute min dist between two non-overlapping cuboids of shape (8,4)\n",
    "  \"\"\"\n",
    "\n",
    "  minD = 1e5\n",
    "  for i in range(4):\n",
    "    for j in range(4):\n",
    "      d, Q = distance_point_to_segment(cub1[i,:2], cub2[j,:2], cub2[j+1,:2])\n",
    "      if d < minD:\n",
    "        minD = d\n",
    "        minP = cub1[i,:2]\n",
    "        minQ = Q\n",
    "  for i in range(4):\n",
    "    for j in range(4):\n",
    "      d, Q = distance_point_to_segment(cub1[i,:2], cub2[j,:2], cub2[j+1,:2])\n",
    "      if d < minD:\n",
    "        minD = d\n",
    "        minP = cub2[i,:2]\n",
    "        minQ = Q\n",
    "  return minP, minQ, minD\n",
    "\n",
    "corners_3d_velo = np.array([\n",
    "  [15.12424719, 16.06928938, 12.27779014, 11.33274795, 15.10334837, 16.04839056,\n",
    "  12.25689133, 11.31184914], \n",
    "  [ 6.49985556,  4.9406537,  2.64287284,  4.2020747, 6.47872485, 4.91952299,\n",
    "   2.62174213, 4.18094399],\n",
    "  [-1.70710774, -1.71370686, -1.7776097,  -1.77101058,  0.29267156,  0.28607244,\n",
    "   0.2221696,   0.22876872]])\n",
    "\n",
    "corners_3d_velo = corners_3d_velo.T\n",
    "ego_car = np.array([[2.15, 0.9, -1.73], [2.15, -0.9, -1.73], [-1.95, -0.9, -1.73],[-1.95,0.9,-1.73], [2.15,0.9,-0.23], [2.15,-0.9,-0.23],[-1.95,-0.9,-0.23],[-1.95,0.9,-0.23]]\n",
    "                   )\n",
    "\n",
    "plt.axes().set_aspect('equal','datalim')\n",
    "plt.plot(ego_car[:5,0],ego_car[:5,1],'-o')\n",
    "plt.plot(corners_3d_velo[:5,0], corners_3d_velo[:5,1],'-o')\n",
    "minP,minQ,minD = min_distance_cuboids(ego_car, corners_3d_velo)\n",
    "plt.plot(list(zip(minP,minQ))[0], list(zip(minP,minQ))[1],'y-')"
   ]
  },
  {
   "cell_type": "code",
   "execution_count": null,
   "metadata": {
    "colab": {},
    "colab_type": "code",
    "id": "9FpscXWBCOw3"
   },
   "outputs": [],
   "source": []
  }
 ],
 "metadata": {
  "colab": {
   "authorship_tag": "ABX9TyPq16NJEqdhJySKVEfD481z",
   "collapsed_sections": [],
   "name": "kitii数据集的使用.ipynb",
   "provenance": []
  },
  "kernelspec": {
   "display_name": "Python 3",
   "language": "python",
   "name": "python3"
  },
  "language_info": {
   "codemirror_mode": {
    "name": "ipython",
    "version": 3
   },
   "file_extension": ".py",
   "mimetype": "text/x-python",
   "name": "python",
   "nbconvert_exporter": "python",
   "pygments_lexer": "ipython3",
   "version": "3.5.2"
  }
 },
 "nbformat": 4,
 "nbformat_minor": 1
}
